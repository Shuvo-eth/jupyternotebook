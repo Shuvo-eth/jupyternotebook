{
 "cells": [
  {
   "cell_type": "markdown",
   "id": "c8171556",
   "metadata": {},
   "source": [
    "# Problem Statement "
   ]
  },
  {
   "cell_type": "raw",
   "id": "635dd292",
   "metadata": {},
   "source": [
    "Suppose a portfolio manager at a financial institution is managing three separate accounts. The portfolio manager has purchased three different Tech stocks for each of his clients; Bill, Sundar and Tim. He purchased these stocks at the same time, which means the stocks for each company were purchased at the same price. The portfolio manager purchased 1 Apple stock, 5 Microsoft stocks and 3 Google stocks for a combined price of $2,450 for his client Bill. The portfolio manager has also purchased 2 Apple stocks, 3 Microsoft stocks and 1 Google stock for a total price of $1,550 for his client Sundar. And finally, he purchased 3 Apple stocks, 2 Microsoft stocks, and 1 Google stock for a total of $1,450 for his client Tim. Given the following three systems of equations, find the price of each stock at the time of purchase.  \n"
   ]
  },
  {
   "cell_type": "markdown",
   "id": "0a8ec451",
   "metadata": {},
   "source": [
    "# Set-up the Three Systems of Equations "
   ]
  },
  {
   "cell_type": "markdown",
   "id": "46b2fab8",
   "metadata": {},
   "source": [
    "a + 5m + 3t = $2,450 \n",
    "2a + 3m + t = $1,550\n",
    "3a + 2m+ t = $1,450"
   ]
  },
  {
   "cell_type": "markdown",
   "id": "41986dc1",
   "metadata": {},
   "source": [
    "#Setup the three systems of equations using matrix notation and its vector\n",
    "\n",
    "    Matrix (3x3)  Vector\n",
    "    [1,5,3]       [2450]\n",
    "    [2,3,1]       [1550]\n",
    "    [3,2,1]       [1450]\n",
    "    \n"
   ]
  },
  {
   "cell_type": "markdown",
   "id": "498eaca9",
   "metadata": {},
   "source": [
    "#import numpy module and assign it as np. This will allow you to call functions from the numpy library\n",
    "import numpy as np"
   ]
  },
  {
   "cell_type": "code",
   "execution_count": 6,
   "id": "143aeb6d",
   "metadata": {},
   "outputs": [
    {
     "name": "stdout",
     "output_type": "stream",
     "text": [
      "The price of Apple stock (A) was: $200.00\n",
      "The price of Microsoft stock (M) was: $300.00\n",
      "The price of Google stock (G) was: $250.00\n"
     ]
    }
   ],
   "source": [
    "import numpy as np\n",
    "\n",
    "# Define the coefficients matrix\n",
    "coefficients = np.array([\n",
    "    [1, 5, 3],\n",
    "    [2, 3, 1],\n",
    "    [3, 2, 1]\n",
    "])\n",
    "\n",
    "# Define the constants vector\n",
    "constants = np.array([2450, 1550, 1450])\n",
    "\n",
    "# Solve for the variables (Apple, Microsoft, Google stock prices)\n",
    "stock_prices = np.linalg.solve(coefficients, constants)\n",
    "\n",
    "# Extract the results\n",
    "A, M, G = stock_prices\n",
    "\n",
    "print(f\"The price of Apple stock (A) was: ${A:.2f}\")\n",
    "print(f\"The price of Microsoft stock (M) was: ${M:.2f}\")\n",
    "print(f\"The price of Google stock (G) was: ${G:.2f}\")\n"
   ]
  },
  {
   "cell_type": "code",
   "execution_count": null,
   "id": "bd5db055",
   "metadata": {},
   "outputs": [],
   "source": []
  }
 ],
 "metadata": {
  "kernelspec": {
   "display_name": "Python 3 (ipykernel)",
   "language": "python",
   "name": "python3"
  },
  "language_info": {
   "codemirror_mode": {
    "name": "ipython",
    "version": 3
   },
   "file_extension": ".py",
   "mimetype": "text/x-python",
   "name": "python",
   "nbconvert_exporter": "python",
   "pygments_lexer": "ipython3",
   "version": "3.10.9"
  }
 },
 "nbformat": 4,
 "nbformat_minor": 5
}
